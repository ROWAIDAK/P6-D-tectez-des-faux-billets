{
 "cells": [
  {
   "cell_type": "markdown",
   "id": "5895520a",
   "metadata": {},
   "source": [
    "# Mission 1 Analyse en composantes principales\n",
    "\n",
    "Vous réaliserez une analyse en composantes principales de l'échantillon, en suivant toutes ces étapes :\n",
    "\n",
    "analyse de l'éboulis des valeurs propres ;\n",
    "représentation des variables par le cercle des corrélations ;\n",
    "représentation des individus par les plans factoriels ;\n",
    "analyser de la qualité de représentation et la contribution des individus.\n",
    "Pour chacune de ces étapes, commentez les résultats obtenus. La variable donnant la nature Vrai/Faux du billet sera utilisée comme variable illustrative.\n",
    "\n"
   ]
  },
  {
   "cell_type": "code",
   "execution_count": 1,
   "id": "88693459",
   "metadata": {},
   "outputs": [],
   "source": [
    "import numpy as np\n",
    "import pandas as pd\n",
    "import matplotlib.pyplot as plt\n",
    "import matplotlib.cm as cm\n",
    "import seaborn as sns\n",
    "#import time\n",
    "\n",
    "from P6_Functions import *\n",
    "#from sklearn import metrics\n",
    "#from scipy.stats import loguniform\n",
    "#from sklearn.cluster import KMeans\n",
    "#from sklearn.model_selection import train_test_split, RandomizedSearchCV, cross_validate\n",
    "#from sklearn.linear_model import LogisticRegression\n",
    "#from sklearn.metrics import silhouette_samples, silhouette_score, plot_confusion_matrix\n",
    "#from sklearn.pipeline import make_pipeline\n",
    "from sklearn.preprocessing import StandardScaler\n",
    "\n",
    "from matplotlib.colors import ListedColormap\n",
    "cmap = ListedColormap(['#4cb2ff', '#61ba86'])"
   ]
  },
  {
   "cell_type": "code",
   "execution_count": 2,
   "id": "c8a7a8d2",
   "metadata": {},
   "outputs": [
    {
     "data": {
      "text/html": [
       "<div>\n",
       "<style scoped>\n",
       "    .dataframe tbody tr th:only-of-type {\n",
       "        vertical-align: middle;\n",
       "    }\n",
       "\n",
       "    .dataframe tbody tr th {\n",
       "        vertical-align: top;\n",
       "    }\n",
       "\n",
       "    .dataframe thead th {\n",
       "        text-align: right;\n",
       "    }\n",
       "</style>\n",
       "<table border=\"1\" class=\"dataframe\">\n",
       "  <thead>\n",
       "    <tr style=\"text-align: right;\">\n",
       "      <th></th>\n",
       "      <th>is_genuine</th>\n",
       "      <th>diagonal</th>\n",
       "      <th>height_left</th>\n",
       "      <th>height_right</th>\n",
       "      <th>margin_low</th>\n",
       "      <th>margin_up</th>\n",
       "      <th>length</th>\n",
       "    </tr>\n",
       "  </thead>\n",
       "  <tbody>\n",
       "    <tr>\n",
       "      <th>0</th>\n",
       "      <td>True</td>\n",
       "      <td>171.81</td>\n",
       "      <td>104.86</td>\n",
       "      <td>104.95</td>\n",
       "      <td>4.52</td>\n",
       "      <td>2.89</td>\n",
       "      <td>112.83</td>\n",
       "    </tr>\n",
       "    <tr>\n",
       "      <th>1</th>\n",
       "      <td>True</td>\n",
       "      <td>171.67</td>\n",
       "      <td>103.74</td>\n",
       "      <td>103.70</td>\n",
       "      <td>4.01</td>\n",
       "      <td>2.87</td>\n",
       "      <td>113.29</td>\n",
       "    </tr>\n",
       "    <tr>\n",
       "      <th>2</th>\n",
       "      <td>True</td>\n",
       "      <td>171.83</td>\n",
       "      <td>103.76</td>\n",
       "      <td>103.76</td>\n",
       "      <td>4.40</td>\n",
       "      <td>2.88</td>\n",
       "      <td>113.84</td>\n",
       "    </tr>\n",
       "    <tr>\n",
       "      <th>3</th>\n",
       "      <td>True</td>\n",
       "      <td>171.80</td>\n",
       "      <td>103.78</td>\n",
       "      <td>103.65</td>\n",
       "      <td>3.73</td>\n",
       "      <td>3.12</td>\n",
       "      <td>113.63</td>\n",
       "    </tr>\n",
       "    <tr>\n",
       "      <th>4</th>\n",
       "      <td>True</td>\n",
       "      <td>172.05</td>\n",
       "      <td>103.70</td>\n",
       "      <td>103.75</td>\n",
       "      <td>5.04</td>\n",
       "      <td>2.27</td>\n",
       "      <td>113.55</td>\n",
       "    </tr>\n",
       "    <tr>\n",
       "      <th>...</th>\n",
       "      <td>...</td>\n",
       "      <td>...</td>\n",
       "      <td>...</td>\n",
       "      <td>...</td>\n",
       "      <td>...</td>\n",
       "      <td>...</td>\n",
       "      <td>...</td>\n",
       "    </tr>\n",
       "    <tr>\n",
       "      <th>165</th>\n",
       "      <td>False</td>\n",
       "      <td>172.11</td>\n",
       "      <td>104.23</td>\n",
       "      <td>104.45</td>\n",
       "      <td>5.24</td>\n",
       "      <td>3.58</td>\n",
       "      <td>111.78</td>\n",
       "    </tr>\n",
       "    <tr>\n",
       "      <th>166</th>\n",
       "      <td>False</td>\n",
       "      <td>173.01</td>\n",
       "      <td>104.59</td>\n",
       "      <td>104.31</td>\n",
       "      <td>5.04</td>\n",
       "      <td>3.05</td>\n",
       "      <td>110.91</td>\n",
       "    </tr>\n",
       "    <tr>\n",
       "      <th>167</th>\n",
       "      <td>False</td>\n",
       "      <td>172.47</td>\n",
       "      <td>104.27</td>\n",
       "      <td>104.10</td>\n",
       "      <td>4.88</td>\n",
       "      <td>3.33</td>\n",
       "      <td>110.68</td>\n",
       "    </tr>\n",
       "    <tr>\n",
       "      <th>168</th>\n",
       "      <td>False</td>\n",
       "      <td>171.82</td>\n",
       "      <td>103.97</td>\n",
       "      <td>103.88</td>\n",
       "      <td>4.73</td>\n",
       "      <td>3.55</td>\n",
       "      <td>111.87</td>\n",
       "    </tr>\n",
       "    <tr>\n",
       "      <th>169</th>\n",
       "      <td>False</td>\n",
       "      <td>171.96</td>\n",
       "      <td>104.00</td>\n",
       "      <td>103.95</td>\n",
       "      <td>5.63</td>\n",
       "      <td>3.26</td>\n",
       "      <td>110.96</td>\n",
       "    </tr>\n",
       "  </tbody>\n",
       "</table>\n",
       "<p>170 rows × 7 columns</p>\n",
       "</div>"
      ],
      "text/plain": [
       "     is_genuine  diagonal  height_left  height_right  margin_low  margin_up  \\\n",
       "0          True    171.81       104.86        104.95        4.52       2.89   \n",
       "1          True    171.67       103.74        103.70        4.01       2.87   \n",
       "2          True    171.83       103.76        103.76        4.40       2.88   \n",
       "3          True    171.80       103.78        103.65        3.73       3.12   \n",
       "4          True    172.05       103.70        103.75        5.04       2.27   \n",
       "..          ...       ...          ...           ...         ...        ...   \n",
       "165       False    172.11       104.23        104.45        5.24       3.58   \n",
       "166       False    173.01       104.59        104.31        5.04       3.05   \n",
       "167       False    172.47       104.27        104.10        4.88       3.33   \n",
       "168       False    171.82       103.97        103.88        4.73       3.55   \n",
       "169       False    171.96       104.00        103.95        5.63       3.26   \n",
       "\n",
       "     length  \n",
       "0    112.83  \n",
       "1    113.29  \n",
       "2    113.84  \n",
       "3    113.63  \n",
       "4    113.55  \n",
       "..      ...  \n",
       "165  111.78  \n",
       "166  110.91  \n",
       "167  110.68  \n",
       "168  111.87  \n",
       "169  110.96  \n",
       "\n",
       "[170 rows x 7 columns]"
      ]
     },
     "execution_count": 2,
     "metadata": {},
     "output_type": "execute_result"
    }
   ],
   "source": [
    "df = pd.read_csv('datas/notes.csv' , header=0, sep=\",\", decimal=\".\")\n",
    "df"
   ]
  },
  {
   "cell_type": "markdown",
   "id": "c00b00be",
   "metadata": {},
   "source": [
    "# L'ACP\n",
    "En fait, l’ACP est une méthode bien connue de réduction de dimension qui va permettre de transformer des variables très corrélées en nouvelles variables décorrélées les unes des autres. \n",
    "\n",
    "**Le principe est simple** : Il s’agit en fait de résumer l’information qui est contenue dans une large base de données en un certain nombre de variables synthétiques appelées : Composantes principales. \n",
    "\n",
    "**L’idée** est  de pouvoir projeter ces données sur l’hyperplan le plus proche afin d’avoir une représentation simple de nos données.\n",
    "Évidemment, qui dit réduction de dimension dit perte d’informations. C’est là tout l’enjeu que représente une Analyse en Composantes principales. Il faut pouvoir réduire la dimension de nos données tout en conservant un maximum d’informations.\n",
    "\n",
    "**Comment fonctionne une Analyse en composantes principales ?**\n",
    "\n",
    "Il est important de centrer et réduire nos variables pour atténuer l’effet d’échelle car elles ne sont pas calculées sur la même base.\n",
    "Il faut voir nos données comme une matrice à partir de laquelle nous allons calculer des valeurs propres et vecteurs propres.\n",
    "\n",
    "En algèbre linéaire, la notion de vecteur propre(eigenvector) correspond à l’étude des axes privilégiés, selon lesquels une application d’un espace dans lui-même se comporte comme une dilatation, multipliant les vecteurs par une  constante appelée valeur propre(eigenvalue). Les vecteurs auxquels il s’applique s’appellent vecteurs propres, réunis en un espace propre"
   ]
  },
  {
   "cell_type": "markdown",
   "id": "097887df",
   "metadata": {},
   "source": [
    "## Preprocessing"
   ]
  },
  {
   "cell_type": "code",
   "execution_count": 3,
   "id": "b1eda814",
   "metadata": {},
   "outputs": [
    {
     "name": "stdout",
     "output_type": "stream",
     "text": [
      "[ 47.44792058  69.40502654  83.63955087  92.16584631  96.77866875\n",
      " 100.        ]\n"
     ]
    },
    {
     "data": {
      "text/plain": [
       "array([47.44792058, 21.95710596, 14.23452433,  8.52629544,  4.61282244,\n",
       "        3.22133125])"
      ]
     },
     "execution_count": 3,
     "metadata": {},
     "output_type": "execute_result"
    },
    {
     "data": {
      "image/png": "[encoded data removed]",
      "text/plain": [
       "<Figure size 720x360 with 1 Axes>"
      ]
     },
     "metadata": {
      "needs_background": "light"
     },
     "output_type": "display_data"
    }
   ],
   "source": [
    "from sklearn.preprocessing import StandardScaler\n",
    "\n",
    "\n",
    "# select columns for CPA\n",
    "df = df.set_index('is_genuine')\n",
    "df_pca = df[['diagonal', 'height_left', 'height_right', 'margin_low', 'margin_up', 'length']]\n",
    "\n",
    "#data preparation for PCA\n",
    "X = df_pca.values\n",
    "names = df.index # ou data['columns'] pour avoir les intitulés\n",
    "features = df.columns\n",
    "\n",
    "#centering but no reduction because the data already has the same unit\n",
    "std_scale = preprocessing.StandardScaler().fit(X)\n",
    "X_scaled = std_scale.transform(X)\n",
    "\n",
    "#choice of the number of components to calculate\n",
    "#more details in section 4.2\n",
    "n_comp = 6\n",
    "\n",
    "#calculation of the main components\n",
    "pca = decomposition.PCA(n_components=n_comp)\n",
    "pca.fit(X_scaled)\n",
    "\n",
    "\n",
    "display_scree_plot(pca)\n",
    "plt.savefig(\"graphiques\\05. Screeplot.jpg\", dpi=500, bbox_inches='tight', pad_inches=0.5)\n",
    "\n",
    "#Pourcentage de variance expliquée par les composantes principales à l'aide de .explained_variance_ratio_\n",
    "scree = pca.explained_variance_ratio_*100      #Le paramètre pca.explained_variance_ratio_ renvoie un vecteur de la variance expliquée par chaque dimension.\n",
    "#Pourcentage de variance expliquée par les composantes principales à l'aide de .explained_variance_ratio_\n",
    "print(scree.cumsum())\n",
    "scree \n"
   ]
  },
  {
   "cell_type": "markdown",
   "id": "5d2937f4",
   "metadata": {},
   "source": [
    "La méthode du coude précise une représentation satisfaisante de nos variables sur les deux premières composantes principales, le premier axe factoriel.\n",
    "\n",
    "70% de la variance des données est expliquée par les deux premières composantes. L'analyse sera traitée ainsi, car l'ajout d'autres composantes n'apporte pas réellement de valeur ajoutée, du moins pas dans notre contexte actuel.\n"
   ]
  },
  {
   "cell_type": "markdown",
   "id": "a6b13ed3",
   "metadata": {},
   "source": [
    "## Cercle des corrélations et projection des individus"
   ]
  },
  {
   "cell_type": "code",
   "execution_count": null,
   "id": "fe905aab",
   "metadata": {},
   "outputs": [],
   "source": [
    "#circles of correlations\n",
    "pcs = pca.components_\n",
    "\n",
    "#projection\n",
    "X_projected = pca.transform(X_scaled)\n",
    "\n",
    "#figure initialization\n",
    "plt.figure(figsize=(20,20))\n",
    "    \n",
    "display_circles(pcs, n_comp, pca, [(0,1)], labels = np.array(features))\n",
    "    \n",
    "plt.savefig(\"graphiques\\06.circles of correlations.jpg\", dpi=500, bbox_inches='tight', pad_inches=0.5)\n"
   ]
  },
  {
   "cell_type": "markdown",
   "id": "e2592573",
   "metadata": {},
   "source": [
    "Le cercle des corrélations confirme que les dépendances entre variables ont bien été conservées après projection. Pour chaque variable, la longueur de la flèche est proportionnelle à la quantité d'informations stockée par les composantes.\n",
    "\n",
    "La corrélation entre 2 variables se déduit par l'angle que forme leurs flèches :\n",
    "\n",
    "0° : corrélation positive\n",
    "90° : absence de corrélation\n",
    "180° : corrélation négative\n",
    "Les corrélations entre les 6 variables de départ ont bien été conservées après réduction en 2 dimensions. Ici, les hauteurs gauche et droite sont bien corrélées positivement, tout comme les 2 marges. L'ACP a conservé suffisamment de données pour que la représentation sur le plan factoriel soit fiable.\n",
    "\n",
    "\n",
    "F1 : Longueur du billet VS hauteur / marge\n",
    "F2 : Longueur de la diagonale\n",
    "\n",
    "Je n'ai conservé que cette projection car elle est de loin la plus pertinente.\n",
    "\n",
    "On voit que l'axe de la première composante est celui qui sépare principalement les vrais billets des faux billets. De plus, F1 explique 47% de l'inertie.\n",
    "\n",
    "Le second axe explique 22% de l'inertie et participe à la séparation des vrais billets et des faux billets.\n",
    "On voit qu'une diagonale sépare clairement les vrais et les faux billets.\n",
    "F1 permet dans de nombreux cas de déterminer s'il s'agit d'un vrai billet ou non. Pour les valeurs proches de zéro, alors c'est la valeur de F2 qui va permettre de discriminer."
   ]
  },
  {
   "cell_type": "code",
   "execution_count": null,
   "id": "6e2990ca",
   "metadata": {},
   "outputs": [],
   "source": [
    "X_projected"
   ]
  },
  {
   "cell_type": "code",
   "execution_count": null,
   "id": "8cbcfbd7",
   "metadata": {},
   "outputs": [],
   "source": [
    "#Calcul des composantes principales\n",
    "#Ici seulement F1 et F2 seront utiles à l'interprétation attendue\n",
    "\n",
    "df_facto = pd.DataFrame(X_projected, index=names, columns=[\"F\" + str(i+1) for i in range(6)]).iloc[:, :2]\n",
    "df_facto\n",
    "\n",
    "\n"
   ]
  },
  {
   "cell_type": "code",
   "execution_count": null,
   "id": "b6754384",
   "metadata": {},
   "outputs": [],
   "source": [
    "\n",
    "#figure initialization\n",
    "plt.figure(figsize=(20,20))\n",
    "    \n",
    "\n",
    "display_factorial_planes(X_projected, n_comp, pca, [(0,1)], illustrative_var = df.index) \n",
    "plt.savefig(\"graphiques\\07. factorial_planes.jpg\", dpi=500, bbox_inches='tight', pad_inches=0.5)\n"
   ]
  },
  {
   "cell_type": "markdown",
   "id": "055f216c",
   "metadata": {},
   "source": [
    "## Contribution de chaque variable aux composantes principales"
   ]
  },
  {
   "cell_type": "code",
   "execution_count": null,
   "id": "867900f7",
   "metadata": {},
   "outputs": [],
   "source": [
    "#number of observations \n",
    "n = df_pca.shape[0]\n",
    "\n",
    "#number of variables\n",
    "p = df_pca.shape[1]\n",
    "\n",
    "#instantiation\n",
    "pca = decomposition.PCA(svd_solver='full')\n",
    "\n",
    "#calculations\n",
    "coord = pca.fit_transform(X_scaled)\n",
    "\n",
    "#corrected value\n",
    "eigval = (n-1)/n*pca.explained_variance_ #or acp.singular_values_**2/n\n",
    "\n",
    "#square root of eigenvalues\n",
    "sqrt_eigval = np.sqrt(eigval)\n",
    "\n",
    "#correlation of variables with axes\n",
    "corvar = np.zeros((p,p))\n",
    "for k in range(p):\n",
    "    corvar[:,k] = pca.components_[k,:] * sqrt_eigval[k]\n",
    "\n",
    "#cosine square of variables\n",
    "cos2var = corvar**2\n",
    "\n",
    "#contributions\n",
    "ctrvar = cos2var\n",
    "for k in range(p):\n",
    "    ctrvar[:,k] = ctrvar[:,k]/eigval[k]\n",
    "    \n",
    "#show\n",
    "df_cos2var= pd.DataFrame({'variable':df_pca.columns,'F1':ctrvar[:,0],'F2':ctrvar[:,1]})\n",
    "df_cos2var\n",
    "\n"
   ]
  },
  {
   "cell_type": "code",
   "execution_count": null,
   "id": "a4c150f1",
   "metadata": {},
   "outputs": [],
   "source": [
    "\n",
    "df_cos2var = df_cos2var.set_index('variable')\n",
    "\n",
    "#affichage dans un heatmap seaborn\n",
    "fig = plt.figure(figsize=(12,8))\n",
    "sns.heatmap(df_cos2var, annot=True, cmap=\"YlGnBu\")\n",
    "plt.title(\"Qualité de représentation des variables (COS²)\", fontsize=22)\n",
    "plt.show()\n",
    "plt.savefig(\"graphiques\\07. ACP_cos2_var.jpg\", dpi=500, bbox_inches='tight', pad_inches=0.5)\n"
   ]
  },
  {
   "cell_type": "markdown",
   "id": "84843f9c",
   "metadata": {},
   "source": [
    "On voit que les variables qui ont le plus de contribution à  sont height_right et height_left, puis length ensuite. La variable qui contribue très fortement à  est bien diagonal"
   ]
  },
  {
   "cell_type": "code",
   "execution_count": null,
   "id": "af07e098",
   "metadata": {},
   "outputs": [],
   "source": []
  }
 ],
 "metadata": {
  "kernelspec": {
   "display_name": "Python 3",
   "language": "python",
   "name": "python3"
  },
  "language_info": {
   "codemirror_mode": {
    "name": "ipython",
    "version": 3
   },
   "file_extension": ".py",
   "mimetype": "text/x-python",
   "name": "python",
   "nbconvert_exporter": "python",
   "pygments_lexer": "ipython3",
   "version": "3.8.2"
  }
 },
 "nbformat": 4,
 "nbformat_minor": 5
}

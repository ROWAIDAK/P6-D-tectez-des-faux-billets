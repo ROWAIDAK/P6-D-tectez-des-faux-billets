{
 "cells": [
  {
   "cell_type": "code",
   "execution_count": 1,
   "id": "324ed95a",
   "metadata": {},
   "outputs": [],
   "source": [
    "import numpy as np\n",
    "import pandas as pd\n",
    "import matplotlib.pyplot as plt\n",
    "import matplotlib.cm as cm\n",
    "import seaborn as sns\n",
    "import time\n",
    "\n",
    "#from P6_00_Functions import *\n",
    "#from sklearn import metrics\n",
    "#from scipy.stats import loguniform\n",
    "#from sklearn.cluster import KMeans\n",
    "#from sklearn.model_selection import train_test_split, RandomizedSearchCV, cross_validate\n",
    "#from sklearn.linear_model import LogisticRegression\n",
    "#from sklearn.metrics import silhouette_samples, silhouette_score, plot_confusion_matrix\n",
    "#from sklearn.pipeline import make_pipeline\n",
    "#from sklearn.preprocessing import StandardScaler\n",
    "\n",
    "#from matplotlib.colors import ListedColormap\n",
    "#cmap = ListedColormap(['#4cb2ff', '#61ba86'])"
   ]
  },
  {
   "cell_type": "markdown",
   "id": "f46b68c2",
   "metadata": {},
   "source": [
    "# Scénario\n",
    "Votre société de consulting informatique vous propose une nouvelle mission au ministère de l'Intérieur, dans le cadre de la lutte contre la criminalité organisée, à l'Office central pour la répression du faux monnayage. Votre mission si vous l'acceptez : créer un algorithme de détection de faux billets.\n",
    "\n",
    "Vous vous voyez déjà en grand justicier combattant sans relâche la criminalité organisée en pianotant à mains de maître votre ordinateur, pour façonner ce fabuleux algorithme  qui traquera la moindre fraude et permettra de mettre à jour les réseaux secrets de faux-monnayeurs ! La classe, non ?\n",
    "\n",
    "... Bon, si on retombait les pieds sur terre? Travailler pour la police judiciaire, c'est bien, mais vous allez devoir faire appel à vos connaissances en statistiques, alors on y va !\n",
    "\n",
    "# Les données\n",
    "La PJ vous transmet un jeu de données contenant les caractéristiques géométriques de billets de banque. Pour chacun d'eux, nous connaissons :\n",
    "\n",
    "   1. la longueur du billet (en mm) ;\n",
    "   2. la hauteur du billet (mesurée sur le côté gauche, en mm) ;\n",
    "   3. La hauteur du billet (mesurée sur le côté droit, en mm) ;\n",
    "   4. la marge entre le bord supérieur du billet et l'image de celui-ci (en mm) ;\n",
    "   5. la marge entre le bord inférieur du billet et l'image de celui-ci (en mm) ;\n",
    "   6. la diagonale du billet (en mm).\n",
    "   \n",
    "# Votre mission\n",
    "\n",
    "\n",
    "# Mission 0\n",
    "Afin d'introduire votre analyse, effectuez une brève description des données (analyses univariées et bivariées)."
   ]
  },
  {
   "cell_type": "code",
   "execution_count": 2,
   "id": "d4a7ed85",
   "metadata": {},
   "outputs": [
    {
     "data": {
      "text/html": [
       "<div>\n",
       "<style scoped>\n",
       "    .dataframe tbody tr th:only-of-type {\n",
       "        vertical-align: middle;\n",
       "    }\n",
       "\n",
       "    .dataframe tbody tr th {\n",
       "        vertical-align: top;\n",
       "    }\n",
       "\n",
       "    .dataframe thead th {\n",
       "        text-align: right;\n",
       "    }\n",
       "</style>\n",
       "<table border=\"1\" class=\"dataframe\">\n",
       "  <thead>\n",
       "    <tr style=\"text-align: right;\">\n",
       "      <th></th>\n",
       "      <th>is_genuine</th>\n",
       "      <th>diagonal</th>\n",
       "      <th>height_left</th>\n",
       "      <th>height_right</th>\n",
       "      <th>margin_low</th>\n",
       "      <th>margin_up</th>\n",
       "      <th>length</th>\n",
       "    </tr>\n",
       "  </thead>\n",
       "  <tbody>\n",
       "    <tr>\n",
       "      <th>0</th>\n",
       "      <td>True</td>\n",
       "      <td>171.81</td>\n",
       "      <td>104.86</td>\n",
       "      <td>104.95</td>\n",
       "      <td>4.52</td>\n",
       "      <td>2.89</td>\n",
       "      <td>112.83</td>\n",
       "    </tr>\n",
       "    <tr>\n",
       "      <th>1</th>\n",
       "      <td>True</td>\n",
       "      <td>171.67</td>\n",
       "      <td>103.74</td>\n",
       "      <td>103.70</td>\n",
       "      <td>4.01</td>\n",
       "      <td>2.87</td>\n",
       "      <td>113.29</td>\n",
       "    </tr>\n",
       "    <tr>\n",
       "      <th>2</th>\n",
       "      <td>True</td>\n",
       "      <td>171.83</td>\n",
       "      <td>103.76</td>\n",
       "      <td>103.76</td>\n",
       "      <td>4.40</td>\n",
       "      <td>2.88</td>\n",
       "      <td>113.84</td>\n",
       "    </tr>\n",
       "    <tr>\n",
       "      <th>3</th>\n",
       "      <td>True</td>\n",
       "      <td>171.80</td>\n",
       "      <td>103.78</td>\n",
       "      <td>103.65</td>\n",
       "      <td>3.73</td>\n",
       "      <td>3.12</td>\n",
       "      <td>113.63</td>\n",
       "    </tr>\n",
       "    <tr>\n",
       "      <th>4</th>\n",
       "      <td>True</td>\n",
       "      <td>172.05</td>\n",
       "      <td>103.70</td>\n",
       "      <td>103.75</td>\n",
       "      <td>5.04</td>\n",
       "      <td>2.27</td>\n",
       "      <td>113.55</td>\n",
       "    </tr>\n",
       "    <tr>\n",
       "      <th>...</th>\n",
       "      <td>...</td>\n",
       "      <td>...</td>\n",
       "      <td>...</td>\n",
       "      <td>...</td>\n",
       "      <td>...</td>\n",
       "      <td>...</td>\n",
       "      <td>...</td>\n",
       "    </tr>\n",
       "    <tr>\n",
       "      <th>165</th>\n",
       "      <td>False</td>\n",
       "      <td>172.11</td>\n",
       "      <td>104.23</td>\n",
       "      <td>104.45</td>\n",
       "      <td>5.24</td>\n",
       "      <td>3.58</td>\n",
       "      <td>111.78</td>\n",
       "    </tr>\n",
       "    <tr>\n",
       "      <th>166</th>\n",
       "      <td>False</td>\n",
       "      <td>173.01</td>\n",
       "      <td>104.59</td>\n",
       "      <td>104.31</td>\n",
       "      <td>5.04</td>\n",
       "      <td>3.05</td>\n",
       "      <td>110.91</td>\n",
       "    </tr>\n",
       "    <tr>\n",
       "      <th>167</th>\n",
       "      <td>False</td>\n",
       "      <td>172.47</td>\n",
       "      <td>104.27</td>\n",
       "      <td>104.10</td>\n",
       "      <td>4.88</td>\n",
       "      <td>3.33</td>\n",
       "      <td>110.68</td>\n",
       "    </tr>\n",
       "    <tr>\n",
       "      <th>168</th>\n",
       "      <td>False</td>\n",
       "      <td>171.82</td>\n",
       "      <td>103.97</td>\n",
       "      <td>103.88</td>\n",
       "      <td>4.73</td>\n",
       "      <td>3.55</td>\n",
       "      <td>111.87</td>\n",
       "    </tr>\n",
       "    <tr>\n",
       "      <th>169</th>\n",
       "      <td>False</td>\n",
       "      <td>171.96</td>\n",
       "      <td>104.00</td>\n",
       "      <td>103.95</td>\n",
       "      <td>5.63</td>\n",
       "      <td>3.26</td>\n",
       "      <td>110.96</td>\n",
       "    </tr>\n",
       "  </tbody>\n",
       "</table>\n",
       "<p>170 rows × 7 columns</p>\n",
       "</div>"
      ],
      "text/plain": [
       "     is_genuine  diagonal  height_left  height_right  margin_low  margin_up  \\\n",
       "0          True    171.81       104.86        104.95        4.52       2.89   \n",
       "1          True    171.67       103.74        103.70        4.01       2.87   \n",
       "2          True    171.83       103.76        103.76        4.40       2.88   \n",
       "3          True    171.80       103.78        103.65        3.73       3.12   \n",
       "4          True    172.05       103.70        103.75        5.04       2.27   \n",
       "..          ...       ...          ...           ...         ...        ...   \n",
       "165       False    172.11       104.23        104.45        5.24       3.58   \n",
       "166       False    173.01       104.59        104.31        5.04       3.05   \n",
       "167       False    172.47       104.27        104.10        4.88       3.33   \n",
       "168       False    171.82       103.97        103.88        4.73       3.55   \n",
       "169       False    171.96       104.00        103.95        5.63       3.26   \n",
       "\n",
       "     length  \n",
       "0    112.83  \n",
       "1    113.29  \n",
       "2    113.84  \n",
       "3    113.63  \n",
       "4    113.55  \n",
       "..      ...  \n",
       "165  111.78  \n",
       "166  110.91  \n",
       "167  110.68  \n",
       "168  111.87  \n",
       "169  110.96  \n",
       "\n",
       "[170 rows x 7 columns]"
      ]
     },
     "execution_count": 2,
     "metadata": {},
     "output_type": "execute_result"
    }
   ],
   "source": [
    "df = pd.read_csv('datas/notes.csv' , header=0, sep=\",\", decimal=\".\")\n",
    "df"
   ]
  },
  {
   "cell_type": "code",
   "execution_count": 3,
   "id": "81b390d9",
   "metadata": {},
   "outputs": [
    {
     "data": {
      "text/plain": [
       "(170, 7)"
      ]
     },
     "execution_count": 3,
     "metadata": {},
     "output_type": "execute_result"
    }
   ],
   "source": [
    "df.shape"
   ]
  },
  {
   "cell_type": "code",
   "execution_count": 4,
   "id": "3700ef97",
   "metadata": {},
   "outputs": [
    {
     "data": {
      "text/html": [
       "<div>\n",
       "<style scoped>\n",
       "    .dataframe tbody tr th:only-of-type {\n",
       "        vertical-align: middle;\n",
       "    }\n",
       "\n",
       "    .dataframe tbody tr th {\n",
       "        vertical-align: top;\n",
       "    }\n",
       "\n",
       "    .dataframe thead th {\n",
       "        text-align: right;\n",
       "    }\n",
       "</style>\n",
       "<table border=\"1\" class=\"dataframe\">\n",
       "  <thead>\n",
       "    <tr style=\"text-align: right;\">\n",
       "      <th></th>\n",
       "      <th>is_genuine</th>\n",
       "      <th>diagonal</th>\n",
       "      <th>height_left</th>\n",
       "      <th>height_right</th>\n",
       "      <th>margin_low</th>\n",
       "      <th>margin_up</th>\n",
       "      <th>length</th>\n",
       "    </tr>\n",
       "  </thead>\n",
       "  <tbody>\n",
       "    <tr>\n",
       "      <th>count</th>\n",
       "      <td>170</td>\n",
       "      <td>170.000000</td>\n",
       "      <td>170.000000</td>\n",
       "      <td>170.000000</td>\n",
       "      <td>170.000000</td>\n",
       "      <td>170.000000</td>\n",
       "      <td>170.000000</td>\n",
       "    </tr>\n",
       "    <tr>\n",
       "      <th>unique</th>\n",
       "      <td>2</td>\n",
       "      <td>NaN</td>\n",
       "      <td>NaN</td>\n",
       "      <td>NaN</td>\n",
       "      <td>NaN</td>\n",
       "      <td>NaN</td>\n",
       "      <td>NaN</td>\n",
       "    </tr>\n",
       "    <tr>\n",
       "      <th>top</th>\n",
       "      <td>True</td>\n",
       "      <td>NaN</td>\n",
       "      <td>NaN</td>\n",
       "      <td>NaN</td>\n",
       "      <td>NaN</td>\n",
       "      <td>NaN</td>\n",
       "      <td>NaN</td>\n",
       "    </tr>\n",
       "    <tr>\n",
       "      <th>freq</th>\n",
       "      <td>100</td>\n",
       "      <td>NaN</td>\n",
       "      <td>NaN</td>\n",
       "      <td>NaN</td>\n",
       "      <td>NaN</td>\n",
       "      <td>NaN</td>\n",
       "      <td>NaN</td>\n",
       "    </tr>\n",
       "    <tr>\n",
       "      <th>mean</th>\n",
       "      <td>NaN</td>\n",
       "      <td>171.940588</td>\n",
       "      <td>104.066353</td>\n",
       "      <td>103.928118</td>\n",
       "      <td>4.612118</td>\n",
       "      <td>3.170412</td>\n",
       "      <td>112.570412</td>\n",
       "    </tr>\n",
       "    <tr>\n",
       "      <th>std</th>\n",
       "      <td>NaN</td>\n",
       "      <td>0.305768</td>\n",
       "      <td>0.298185</td>\n",
       "      <td>0.330980</td>\n",
       "      <td>0.702103</td>\n",
       "      <td>0.236361</td>\n",
       "      <td>0.924448</td>\n",
       "    </tr>\n",
       "    <tr>\n",
       "      <th>min</th>\n",
       "      <td>NaN</td>\n",
       "      <td>171.040000</td>\n",
       "      <td>103.230000</td>\n",
       "      <td>103.140000</td>\n",
       "      <td>3.540000</td>\n",
       "      <td>2.270000</td>\n",
       "      <td>109.970000</td>\n",
       "    </tr>\n",
       "    <tr>\n",
       "      <th>25%</th>\n",
       "      <td>NaN</td>\n",
       "      <td>171.730000</td>\n",
       "      <td>103.842500</td>\n",
       "      <td>103.690000</td>\n",
       "      <td>4.050000</td>\n",
       "      <td>3.012500</td>\n",
       "      <td>111.855000</td>\n",
       "    </tr>\n",
       "    <tr>\n",
       "      <th>50%</th>\n",
       "      <td>NaN</td>\n",
       "      <td>171.945000</td>\n",
       "      <td>104.055000</td>\n",
       "      <td>103.950000</td>\n",
       "      <td>4.450000</td>\n",
       "      <td>3.170000</td>\n",
       "      <td>112.845000</td>\n",
       "    </tr>\n",
       "    <tr>\n",
       "      <th>75%</th>\n",
       "      <td>NaN</td>\n",
       "      <td>172.137500</td>\n",
       "      <td>104.287500</td>\n",
       "      <td>104.170000</td>\n",
       "      <td>5.127500</td>\n",
       "      <td>3.330000</td>\n",
       "      <td>113.287500</td>\n",
       "    </tr>\n",
       "    <tr>\n",
       "      <th>max</th>\n",
       "      <td>NaN</td>\n",
       "      <td>173.010000</td>\n",
       "      <td>104.860000</td>\n",
       "      <td>104.950000</td>\n",
       "      <td>6.280000</td>\n",
       "      <td>3.680000</td>\n",
       "      <td>113.980000</td>\n",
       "    </tr>\n",
       "  </tbody>\n",
       "</table>\n",
       "</div>"
      ],
      "text/plain": [
       "       is_genuine    diagonal  height_left  height_right  margin_low  \\\n",
       "count         170  170.000000   170.000000    170.000000  170.000000   \n",
       "unique          2         NaN          NaN           NaN         NaN   \n",
       "top          True         NaN          NaN           NaN         NaN   \n",
       "freq          100         NaN          NaN           NaN         NaN   \n",
       "mean          NaN  171.940588   104.066353    103.928118    4.612118   \n",
       "std           NaN    0.305768     0.298185      0.330980    0.702103   \n",
       "min           NaN  171.040000   103.230000    103.140000    3.540000   \n",
       "25%           NaN  171.730000   103.842500    103.690000    4.050000   \n",
       "50%           NaN  171.945000   104.055000    103.950000    4.450000   \n",
       "75%           NaN  172.137500   104.287500    104.170000    5.127500   \n",
       "max           NaN  173.010000   104.860000    104.950000    6.280000   \n",
       "\n",
       "         margin_up      length  \n",
       "count   170.000000  170.000000  \n",
       "unique         NaN         NaN  \n",
       "top            NaN         NaN  \n",
       "freq           NaN         NaN  \n",
       "mean      3.170412  112.570412  \n",
       "std       0.236361    0.924448  \n",
       "min       2.270000  109.970000  \n",
       "25%       3.012500  111.855000  \n",
       "50%       3.170000  112.845000  \n",
       "75%       3.330000  113.287500  \n",
       "max       3.680000  113.980000  "
      ]
     },
     "execution_count": 4,
     "metadata": {},
     "output_type": "execute_result"
    }
   ],
   "source": [
    "df.describe(include = 'all')"
   ]
  },
  {
   "cell_type": "code",
   "execution_count": 5,
   "id": "b1fefa39",
   "metadata": {},
   "outputs": [
    {
     "name": "stdout",
     "output_type": "stream",
     "text": [
      "<class 'pandas.core.frame.DataFrame'>\n",
      "RangeIndex: 170 entries, 0 to 169\n",
      "Data columns (total 7 columns):\n",
      " #   Column        Non-Null Count  Dtype  \n",
      "---  ------        --------------  -----  \n",
      " 0   is_genuine    170 non-null    bool   \n",
      " 1   diagonal      170 non-null    float64\n",
      " 2   height_left   170 non-null    float64\n",
      " 3   height_right  170 non-null    float64\n",
      " 4   margin_low    170 non-null    float64\n",
      " 5   margin_up     170 non-null    float64\n",
      " 6   length        170 non-null    float64\n",
      "dtypes: bool(1), float64(6)\n",
      "memory usage: 8.3 KB\n"
     ]
    }
   ],
   "source": [
    "df.info()"
   ]
  },
  {
   "cell_type": "code",
   "execution_count": 6,
   "id": "d9528419",
   "metadata": {},
   "outputs": [
    {
     "data": {
      "text/plain": [
       "is_genuine      0\n",
       "diagonal        0\n",
       "height_left     0\n",
       "height_right    0\n",
       "margin_low      0\n",
       "margin_up       0\n",
       "length          0\n",
       "dtype: int64"
      ]
     },
     "execution_count": 6,
     "metadata": {},
     "output_type": "execute_result"
    }
   ],
   "source": [
    "df.isnull().sum()"
   ]
  },
  {
   "cell_type": "code",
   "execution_count": 7,
   "id": "c96e8c71",
   "metadata": {},
   "outputs": [
    {
     "name": "stdout",
     "output_type": "stream",
     "text": [
      "0\n"
     ]
    }
   ],
   "source": [
    "print(df.duplicated().sum())\n"
   ]
  },
  {
   "cell_type": "markdown",
   "id": "ff7167a4",
   "metadata": {},
   "source": [
    "Le calcul de la distribution empirique est la première étape pour la représentation graphique d'une variable qualitative.\n"
   ]
  },
  {
   "cell_type": "code",
   "execution_count": 8,
   "id": "95d6618c",
   "metadata": {},
   "outputs": [
    {
     "data": {
      "image/png": "[encoded data removed]",
      "text/plain": [
       "<Figure size 576x360 with 1 Axes>"
      ]
     },
     "metadata": {
      "needs_background": "light"
     },
     "output_type": "display_data"
    },
    {
     "data": {
      "image/png": "[encoded data removed]",
      "text/plain": [
       "<Figure size 576x360 with 1 Axes>"
      ]
     },
     "metadata": {
      "needs_background": "light"
     },
     "output_type": "display_data"
    },
    {
     "data": {
      "image/png": "[encoded data removed]",
      "text/plain": [
       "<Figure size 576x360 with 1 Axes>"
      ]
     },
     "metadata": {
      "needs_background": "light"
     },
     "output_type": "display_data"
    },
    {
     "data": {
      "image/png": "[encoded data removed]",
      "text/plain": [
       "<Figure size 576x360 with 1 Axes>"
      ]
     },
     "metadata": {
      "needs_background": "light"
     },
     "output_type": "display_data"
    },
    {
     "data": {
      "image/png": "[encoded data removed]",
      "text/plain": [
       "<Figure size 576x360 with 1 Axes>"
      ]
     },
     "metadata": {
      "needs_background": "light"
     },
     "output_type": "display_data"
    },
    {
     "data": {
      "image/png": "[encoded data removed]",
      "text/plain": [
       "<Figure size 576x360 with 1 Axes>"
      ]
     },
     "metadata": {
      "needs_background": "light"
     },
     "output_type": "display_data"
    }
   ],
   "source": [
    "for column in df[['diagonal', 'height_left', 'height_right', 'margin_low', 'margin_up', 'length']] :\n",
    "    plt.figure(figsize = (8,5))\n",
    "    sns.histplot(x=column, data=df, kde=True, color='#4cb2ff')\n",
    "    plt.xlabel(column)"
   ]
  },
  {
   "cell_type": "code",
   "execution_count": 9,
   "id": "6ee100d6",
   "metadata": {},
   "outputs": [
    {
     "data": {
      "text/html": [
       "<div>\n",
       "<style scoped>\n",
       "    .dataframe tbody tr th:only-of-type {\n",
       "        vertical-align: middle;\n",
       "    }\n",
       "\n",
       "    .dataframe tbody tr th {\n",
       "        vertical-align: top;\n",
       "    }\n",
       "\n",
       "    .dataframe thead th {\n",
       "        text-align: right;\n",
       "    }\n",
       "</style>\n",
       "<table border=\"1\" class=\"dataframe\">\n",
       "  <thead>\n",
       "    <tr style=\"text-align: right;\">\n",
       "      <th></th>\n",
       "      <th>W</th>\n",
       "      <th>pval</th>\n",
       "      <th>normal</th>\n",
       "    </tr>\n",
       "  </thead>\n",
       "  <tbody>\n",
       "    <tr>\n",
       "      <th>diagonal</th>\n",
       "      <td>0.993177</td>\n",
       "      <td>6.106325e-01</td>\n",
       "      <td>True</td>\n",
       "    </tr>\n",
       "    <tr>\n",
       "      <th>height_left</th>\n",
       "      <td>0.992723</td>\n",
       "      <td>5.533670e-01</td>\n",
       "      <td>True</td>\n",
       "    </tr>\n",
       "    <tr>\n",
       "      <th>height_right</th>\n",
       "      <td>0.988121</td>\n",
       "      <td>1.625284e-01</td>\n",
       "      <td>True</td>\n",
       "    </tr>\n",
       "    <tr>\n",
       "      <th>margin_low</th>\n",
       "      <td>0.935401</td>\n",
       "      <td>6.225721e-07</td>\n",
       "      <td>False</td>\n",
       "    </tr>\n",
       "    <tr>\n",
       "      <th>margin_up</th>\n",
       "      <td>0.988917</td>\n",
       "      <td>2.044352e-01</td>\n",
       "      <td>True</td>\n",
       "    </tr>\n",
       "    <tr>\n",
       "      <th>length</th>\n",
       "      <td>0.932463</td>\n",
       "      <td>3.714225e-07</td>\n",
       "      <td>False</td>\n",
       "    </tr>\n",
       "  </tbody>\n",
       "</table>\n",
       "</div>"
      ],
      "text/plain": [
       "                     W          pval  normal\n",
       "diagonal      0.993177  6.106325e-01    True\n",
       "height_left   0.992723  5.533670e-01    True\n",
       "height_right  0.988121  1.625284e-01    True\n",
       "margin_low    0.935401  6.225721e-07   False\n",
       "margin_up     0.988917  2.044352e-01    True\n",
       "length        0.932463  3.714225e-07   False"
      ]
     },
     "execution_count": 9,
     "metadata": {},
     "output_type": "execute_result"
    }
   ],
   "source": [
    "#normality of variables in df\n",
    "import pingouin as pg\n",
    "pg.normality(df, method='shapiro', alpha=0.05).drop('is_genuine')\n",
    "\n",
    "#normality: test de normalité univarié."
   ]
  },
  {
   "cell_type": "code",
   "execution_count": null,
   "id": "72c48f3f",
   "metadata": {},
   "outputs": [],
   "source": []
  },
  {
   "cell_type": "code",
   "execution_count": null,
   "id": "2ca64b3b",
   "metadata": {},
   "outputs": [],
   "source": []
  },
  {
   "cell_type": "code",
   "execution_count": null,
   "id": "88a009e8",
   "metadata": {},
   "outputs": [],
   "source": []
  },
  {
   "cell_type": "code",
   "execution_count": null,
   "id": "c6796059",
   "metadata": {},
   "outputs": [],
   "source": []
  },
  {
   "cell_type": "code",
   "execution_count": null,
   "id": "ba8ce0c9",
   "metadata": {},
   "outputs": [],
   "source": []
  },
  {
   "cell_type": "markdown",
   "id": "56ec9144",
   "metadata": {},
   "source": [
    "# Mission 1\n",
    "Vous réaliserez une analyse en composantes principales de l'échantillon, en suivant toutes ces étapes :\n",
    "\n",
    "analyse de l'éboulis des valeurs propres ;\n",
    "représentation des variables par le cercle des corrélations ;\n",
    "représentation des individus par les plans factoriels ;\n",
    "analyser de la qualité de représentation et la contribution des individus.\n",
    "Pour chacune de ces étapes, commentez les résultats obtenus. La variable donnant la nature Vrai/Faux du billet sera utilisée comme variable illustrative."
   ]
  },
  {
   "cell_type": "markdown",
   "id": "a445f005",
   "metadata": {},
   "source": [
    "# Mission 2\n",
    "Appliquez un algorithme de classification, puis analysez le résultat obtenu.\n",
    "\n",
    "Visualisez la partition obtenue dans le premier plan factoriel de l'ACP, puis analysez-la."
   ]
  },
  {
   "cell_type": "markdown",
   "id": "e5fc33d0",
   "metadata": {},
   "source": [
    "# Mission 3\n",
    "Modélisez les données à l'aide d'une régression logistique. Grâce à celle-ci, vous créerez un programme capable d'effectuer une prédiction sur un billet, c'est-à-dire de déterminer s'il s'agit d'un vrai ou d'un faux billet. Pour chaque billet, votre algorithme de classification devra donner la probabilité que le billet soit vrai. Si cette probabilité est supérieure ou égale à 0.5, le billet sera considéré comme vrai. Dans le cas contraire, il sera considéré comme faux."
   ]
  },
  {
   "cell_type": "code",
   "execution_count": null,
   "id": "e09b541c",
   "metadata": {},
   "outputs": [],
   "source": []
  }
 ],
 "metadata": {
  "kernelspec": {
   "display_name": "Python 3",
   "language": "python",
   "name": "python3"
  },
  "language_info": {
   "codemirror_mode": {
    "name": "ipython",
    "version": 3
   },
   "file_extension": ".py",
   "mimetype": "text/x-python",
   "name": "python",
   "nbconvert_exporter": "python",
   "pygments_lexer": "ipython3",
   "version": "3.8.2"
  }
 },
 "nbformat": 4,
 "nbformat_minor": 5
}

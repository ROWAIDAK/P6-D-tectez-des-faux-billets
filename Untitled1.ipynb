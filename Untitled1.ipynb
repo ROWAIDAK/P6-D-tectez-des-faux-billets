{
 "cells": [
  {
   "cell_type": "code",
   "execution_count": null,
   "id": "79d793e4",
   "metadata": {},
   "outputs": [],
   "source": [
    "# initialisation de la figure       \n",
    "fig = plt.figure(figsize=(12,8))\n",
    "\n",
    "# Affichage des points et variable illustrative\n",
    "illustrative_var = np.array(dataset['is_genuine'].values)\n",
    "for value in np.unique(illustrative_var):\n",
    "    selected = np.where(illustrative_var == value)\n",
    "    plt.scatter(coord[selected, 0], coord[selected, 1], alpha=0.8, label=value)\n",
    "    plt.legend()\n",
    "\n",
    "# affichage des labels des points\n",
    "for i,(x,y) in enumerate(coord[:,[0,1]]):\n",
    "    plt.text(x, y, acp_dataset.index[i], fontsize='14', ha='center',va='center')\n",
    "    \n",
    "# détermination des limites du graphique\n",
    "boundary = np.max(np.abs(coord[:, [0,1]])) * 1.1\n",
    "plt.xlim([-boundary,boundary])\n",
    "plt.ylim([-boundary,boundary])\n",
    "        \n",
    "# affichage des lignes horizontales et verticales\n",
    "plt.plot([-100, 100], [0, 0], color='grey', ls='--')\n",
    "plt.plot([0, 0], [-100, 100], color='grey', ls='--')\n",
    "\n",
    "# nom des axes, avec le pourcentage d'inertie expliqué\n",
    "plt.xlabel('F1 ({}%)'.format(round(100*valprop_ratio[0],2)))\n",
    "plt.ylabel('F2 ({}%)'.format(round(100*valprop_ratio[1],2)))\n",
    "\n",
    "plt.title(\"ACP - Projection des {} individus sur F1 et F2\".format(coord.shape[0]), fontsize=22)\n",
    "plt.show(block=False)"
   ]
  },
  {
   "cell_type": "code",
   "execution_count": null,
   "id": "ca63322a",
   "metadata": {},
   "outputs": [],
   "source": [
    "\n",
    "\n",
    "# affichage des labels des points\n",
    "for i,(x,y) in enumerate(coord[:,[0,1]]):\n",
    "    plt.text(x, y, acp_dataset.index[i], fontsize='14', ha='center',va='center')\n",
    "    \n",
    "# détermination des limites du graphique\n",
    "boundary = np.max(np.abs(coord[:, [0,1]])) * 1.1\n",
    "plt.xlim([-boundary,boundary])\n",
    "plt.ylim([-boundary,boundary])\n",
    "        \n",
    "# affichage des lignes horizontales et verticales\n",
    "plt.plot([-100, 100], [0, 0], color='grey', ls='--')\n",
    "plt.plot([0, 0], [-100, 100], color='grey', ls='--')\n",
    "\n",
    "# nom des axes, avec le pourcentage d'inertie expliqué\n",
    "plt.xlabel('F1 ({}%)'.format(round(100*valprop_ratio[0],2)))\n",
    "plt.ylabel('F2 ({}%)'.format(round(100*valprop_ratio[1],2)))\n",
    "\n",
    "plt.title(\"ACP - COS² des {} individus sur F1\".format(coord.shape[0]), fontsize=22)\n",
    "plt.show(block=False)\n",
    "fig.savefig(\"graph/ACP_cos2_ind.png\")"
   ]
  }
 ],
 "metadata": {
  "kernelspec": {
   "display_name": "Python 3",
   "language": "python",
   "name": "python3"
  },
  "language_info": {
   "codemirror_mode": {
    "name": "ipython",
    "version": 3
   },
   "file_extension": ".py",
   "mimetype": "text/x-python",
   "name": "python",
   "nbconvert_exporter": "python",
   "pygments_lexer": "ipython3",
   "version": "3.8.2"
  }
 },
 "nbformat": 4,
 "nbformat_minor": 5
}

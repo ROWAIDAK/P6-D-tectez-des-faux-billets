{
 "cells": [
  {
   "cell_type": "code",
   "execution_count": 1,
   "id": "250f4a5f",
   "metadata": {},
   "outputs": [],
   "source": [
    "## Import des librairies et modules\n",
    "\n",
    "# Calculs & dataframes\n",
    "import pandas as pd\n",
    "import numpy as np\n",
    "from math import pi\n",
    "\n",
    "# ACP et K-means\n",
    "from sklearn.decomposition import PCA\n",
    "from sklearn.preprocessing import StandardScaler # pour centrer-réduire les données\n",
    "from sklearn.cluster import KMeans\n",
    "from sklearn.metrics import silhouette_score\n",
    "\n",
    "# Régression logistique\n",
    "from sklearn.linear_model import LogisticRegression\n",
    "from sklearn.metrics import classification_report, confusion_matrix, roc_curve, roc_auc_score, plot_roc_curve\n",
    "from sklearn.model_selection import train_test_split\n",
    "from scipy.stats import norm\n",
    "\n",
    "# Librairies graphiques\n",
    "import matplotlib.pyplot as plt\n",
    "%matplotlib inline\n",
    "from matplotlib import cm\n",
    "from matplotlib.colors import ListedColormap, LinearSegmentedColormap\n",
    "import seaborn as sns\n",
    "import plotly.express as px\n",
    "from plotly.subplots import make_subplots\n",
    "import plotly.graph_objects as go"
   ]
  },
  {
   "cell_type": "code",
   "execution_count": null,
   "id": "8dc23f88",
   "metadata": {},
   "outputs": [],
   "source": [
    "df = pd.read_csv('datas/notes.csv' , header=0, sep=\",\", decimal=\".\")\n",
    "df.shape\n",
    "df.describe(include = 'all')\n",
    "df.info()\n",
    "df.isnull().sum()\n",
    "print(df.duplicated().sum())"
   ]
  },
  {
   "cell_type": "code",
   "execution_count": null,
   "id": "7993961d",
   "metadata": {},
   "outputs": [],
   "source": [
    "data = df.groupby(\"is_genuine\").count()\n",
    "\n",
    "data.plot.pie(y=\"diagonal\",figsize=(8, 8),\n",
    "                                explode = [0, 0.1],\n",
    "                                labels = [\"Faux billets\", \"Vrais billets\"],\n",
    "                                autopct = '%1.1f%%',\n",
    "                                pctdistance = 0.3, labeldistance = 0.5)\n",
    "\n",
    "plt.title('Répartition des vrais et faux billets du jeu de données ', \n",
    "  loc='center', \n",
    "  fontsize=22)\n",
    "plt.savefig('graphiques/01. DESCRIBE_repartition_vrai_faux.png')\n",
    "plt.show()\n",
    "\n"
   ]
  },
  {
   "cell_type": "code",
   "execution_count": null,
   "id": "3523068b",
   "metadata": {},
   "outputs": [],
   "source": [
    "#Le calcul de la distribution empirique est la première étape pour la représentation graphique d'une variable qualitative\n",
    "\n",
    "for column in df[['diagonal', 'height_left', 'height_right', 'margin_low', 'margin_up', 'length']] :\n",
    "    plt.figure(figsize = (8,5))\n",
    "    sns.histplot(x=column, data=df, kde=True, color='#2cb2ff')\n",
    "    plt.savefig(\"graphiques/02. Histogramme \" + str(column) +\".jpg\", dpi=500, bbox_inches='tight', pad_inches=0.5)\n",
    "\n",
    "    plt.xlabel(column)\n",
    "    \n",
    "    \n",
    "    \n",
    "    #normality of variables in df\n",
    "import pingouin as pg\n",
    "pg.normality(df, method='shapiro', alpha=0.05).drop('is_genuine')\n",
    "\n",
    "#normality: test de normalité univarié."
   ]
  },
  {
   "cell_type": "code",
   "execution_count": null,
   "id": "7a2edc94",
   "metadata": {},
   "outputs": [],
   "source": [
    "#Analyse Bivariée\n",
    "\n",
    "for column in df[['diagonal', 'height_left', 'height_right', 'margin_low', 'margin_up', 'length']] : \n",
    "        plt.figure(figsize = (8,5))\n",
    "        sns.boxplot( x=column, y='is_genuine', data=df, orient='h', palette=('#4cb2ff', '#61ba86'))\n",
    "        plt.savefig(\"graphiques/03. Boxplot \" + str(column) +\".jpg\", dpi=500, bbox_inches='tight', pad_inches=0.5)"
   ]
  },
  {
   "cell_type": "code",
   "execution_count": null,
   "id": "49094f48",
   "metadata": {},
   "outputs": [],
   "source": [
    "g = sns.pairplot(df, hue='is_genuine', markers=['o','s'], corner=True)\n",
    "g.map_lower(sns.kdeplot, levels=2, color='.2')\n",
    "plt.savefig(\"graphiques/04. Pairplot.jpg\", dpi=500, bbox_inches='tight', pad_inches=0.5)\n",
    "plt.show()"
   ]
  },
  {
   "cell_type": "code",
   "execution_count": null,
   "id": "95257bca",
   "metadata": {},
   "outputs": [],
   "source": [
    "#convert bool to int\n",
    "df['is_genuine'] = df['is_genuine'].astype(int)\n",
    "\n",
    "plt.figure(figsize=(15,5))\n",
    "mask = np.zeros_like(df.corr())\n",
    "mask[np.triu_indices_from(mask)] = True\n",
    "sns.heatmap(df.corr(), mask=mask, vmin=-1, vmax=1, annot=True, cmap='BrBG')\n",
    "plt.xticks(rotation=25, ha='right')\n",
    "plt.title('Triangle de Corrélation',  fontsize=18, pad=20)\n",
    "plt.savefig(\"graphiques/05. Triangle de corrélation.jpg\", dpi=500, bbox_inches='tight', pad_inches=0.5)\n",
    "    #plt.show()"
   ]
  },
  {
   "cell_type": "code",
   "execution_count": null,
   "id": "731b3255",
   "metadata": {},
   "outputs": [],
   "source": []
  },
  {
   "cell_type": "code",
   "execution_count": null,
   "id": "ae016623",
   "metadata": {},
   "outputs": [],
   "source": []
  }
 ],
 "metadata": {
  "kernelspec": {
   "display_name": "Python 3",
   "language": "python",
   "name": "python3"
  },
  "language_info": {
   "codemirror_mode": {
    "name": "ipython",
    "version": 3
   },
   "file_extension": ".py",
   "mimetype": "text/x-python",
   "name": "python",
   "nbconvert_exporter": "python",
   "pygments_lexer": "ipython3",
   "version": "3.8.2"
  }
 },
 "nbformat": 4,
 "nbformat_minor": 5
}

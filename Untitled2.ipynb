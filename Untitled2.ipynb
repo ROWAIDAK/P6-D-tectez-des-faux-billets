{
 "cells": [
  {
   "cell_type": "code",
   "execution_count": null,
   "id": "d8feade5",
   "metadata": {},
   "outputs": [],
   "source": [
    "\n",
    "# affichage des labels des points\n",
    "for i,(x,y) in enumerate(coord[:,[0,1]]):\n",
    "    plt.text(x, y, acp_dataset.index[i], fontsize='14', ha='center',va='center')\n",
    "    \n",
    "#Affichage des points différents\n",
    "for ind in df_diff.iterrows():\n",
    "    plt.scatter(coord[ind[0],0], coord[ind[0],1], alpha=1, marker=\"D\", s=100, color=\"r\")\n",
    "      \n"
   ]
  },
  {
   "cell_type": "code",
   "execution_count": null,
   "id": "0a0a599c",
   "metadata": {},
   "outputs": [],
   "source": [
    "\n",
    "\n",
    "                \n",
    "            # affichage des labels des points\n",
    "            if labels is not None:\n",
    "                for i,(x,y) in enumerate(X_projected[:,[d1,d2]]):\n",
    "                    plt.text(x, y, labels[i],\n",
    "                              fontsize='14', ha='center',va='center') \n",
    "                \n",
    "            # détermination des limites du graphique\n",
    "            boundary = np.max(np.abs(X_projected[:, [d1,d2]])) * 1.1\n",
    "            plt.xlim([-boundary,boundary])\n",
    "            plt.ylim([-boundary,boundary])\n",
    "        \n",
    "            # affichage des lignes horizontales et verticales\n",
    "    \n",
    "            plt.plot([-100, 100], [0, 0], color='#b30b0e', ls='--')\n",
    "            plt.plot([0, 0], [-100, 100], color='#b30b0e', ls='--')\n",
    "\n",
    "            # nom des axes, avec le pourcentage d'inertie expliqué\n",
    "            plt.xlabel('F{} ({}%)'.format(d1+1, round(100*pca.explained_variance_ratio_[d1],1)))\n",
    "            plt.ylabel('F{} ({}%)'.format(d2+1, round(100*pca.explained_variance_ratio_[d2],1)))\n",
    "\n",
    "            plt.title(\"Projection des individus (sur F{} et F{})\".format(d1+1, d2+1))\n",
    "            plt.show(block=False)\n",
    "            "
   ]
  }
 ],
 "metadata": {
  "kernelspec": {
   "display_name": "Python 3",
   "language": "python",
   "name": "python3"
  },
  "language_info": {
   "codemirror_mode": {
    "name": "ipython",
    "version": 3
   },
   "file_extension": ".py",
   "mimetype": "text/x-python",
   "name": "python",
   "nbconvert_exporter": "python",
   "pygments_lexer": "ipython3",
   "version": "3.8.2"
  }
 },
 "nbformat": 4,
 "nbformat_minor": 5
}

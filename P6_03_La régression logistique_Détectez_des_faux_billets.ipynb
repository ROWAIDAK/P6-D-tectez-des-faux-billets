{
 "cells": [
  {
   "cell_type": "code",
   "execution_count": 40,
   "id": "fc39c0eb",
   "metadata": {},
   "outputs": [],
   "source": [
    "import numpy as np\n",
    "import pandas as pd\n",
    "import matplotlib.pyplot as plt\n",
    "import matplotlib.patches as mpatches\n",
    "import seaborn as sns\n"
   ]
  },
  {
   "cell_type": "code",
   "execution_count": 41,
   "id": "3e45c762",
   "metadata": {},
   "outputs": [
    {
     "data": {
      "text/html": [
       "<div>\n",
       "<style scoped>\n",
       "    .dataframe tbody tr th:only-of-type {\n",
       "        vertical-align: middle;\n",
       "    }\n",
       "\n",
       "    .dataframe tbody tr th {\n",
       "        vertical-align: top;\n",
       "    }\n",
       "\n",
       "    .dataframe thead th {\n",
       "        text-align: right;\n",
       "    }\n",
       "</style>\n",
       "<table border=\"1\" class=\"dataframe\">\n",
       "  <thead>\n",
       "    <tr style=\"text-align: right;\">\n",
       "      <th></th>\n",
       "      <th>is_genuine</th>\n",
       "      <th>diagonal</th>\n",
       "      <th>height_left</th>\n",
       "      <th>height_right</th>\n",
       "      <th>margin_low</th>\n",
       "      <th>margin_up</th>\n",
       "      <th>length</th>\n",
       "    </tr>\n",
       "  </thead>\n",
       "  <tbody>\n",
       "    <tr>\n",
       "      <th>0</th>\n",
       "      <td>True</td>\n",
       "      <td>171.81</td>\n",
       "      <td>104.86</td>\n",
       "      <td>104.95</td>\n",
       "      <td>4.52</td>\n",
       "      <td>2.89</td>\n",
       "      <td>112.83</td>\n",
       "    </tr>\n",
       "    <tr>\n",
       "      <th>1</th>\n",
       "      <td>True</td>\n",
       "      <td>171.67</td>\n",
       "      <td>103.74</td>\n",
       "      <td>103.70</td>\n",
       "      <td>4.01</td>\n",
       "      <td>2.87</td>\n",
       "      <td>113.29</td>\n",
       "    </tr>\n",
       "    <tr>\n",
       "      <th>2</th>\n",
       "      <td>True</td>\n",
       "      <td>171.83</td>\n",
       "      <td>103.76</td>\n",
       "      <td>103.76</td>\n",
       "      <td>4.40</td>\n",
       "      <td>2.88</td>\n",
       "      <td>113.84</td>\n",
       "    </tr>\n",
       "    <tr>\n",
       "      <th>3</th>\n",
       "      <td>True</td>\n",
       "      <td>171.80</td>\n",
       "      <td>103.78</td>\n",
       "      <td>103.65</td>\n",
       "      <td>3.73</td>\n",
       "      <td>3.12</td>\n",
       "      <td>113.63</td>\n",
       "    </tr>\n",
       "    <tr>\n",
       "      <th>4</th>\n",
       "      <td>True</td>\n",
       "      <td>172.05</td>\n",
       "      <td>103.70</td>\n",
       "      <td>103.75</td>\n",
       "      <td>5.04</td>\n",
       "      <td>2.27</td>\n",
       "      <td>113.55</td>\n",
       "    </tr>\n",
       "    <tr>\n",
       "      <th>...</th>\n",
       "      <td>...</td>\n",
       "      <td>...</td>\n",
       "      <td>...</td>\n",
       "      <td>...</td>\n",
       "      <td>...</td>\n",
       "      <td>...</td>\n",
       "      <td>...</td>\n",
       "    </tr>\n",
       "    <tr>\n",
       "      <th>165</th>\n",
       "      <td>False</td>\n",
       "      <td>172.11</td>\n",
       "      <td>104.23</td>\n",
       "      <td>104.45</td>\n",
       "      <td>5.24</td>\n",
       "      <td>3.58</td>\n",
       "      <td>111.78</td>\n",
       "    </tr>\n",
       "    <tr>\n",
       "      <th>166</th>\n",
       "      <td>False</td>\n",
       "      <td>173.01</td>\n",
       "      <td>104.59</td>\n",
       "      <td>104.31</td>\n",
       "      <td>5.04</td>\n",
       "      <td>3.05</td>\n",
       "      <td>110.91</td>\n",
       "    </tr>\n",
       "    <tr>\n",
       "      <th>167</th>\n",
       "      <td>False</td>\n",
       "      <td>172.47</td>\n",
       "      <td>104.27</td>\n",
       "      <td>104.10</td>\n",
       "      <td>4.88</td>\n",
       "      <td>3.33</td>\n",
       "      <td>110.68</td>\n",
       "    </tr>\n",
       "    <tr>\n",
       "      <th>168</th>\n",
       "      <td>False</td>\n",
       "      <td>171.82</td>\n",
       "      <td>103.97</td>\n",
       "      <td>103.88</td>\n",
       "      <td>4.73</td>\n",
       "      <td>3.55</td>\n",
       "      <td>111.87</td>\n",
       "    </tr>\n",
       "    <tr>\n",
       "      <th>169</th>\n",
       "      <td>False</td>\n",
       "      <td>171.96</td>\n",
       "      <td>104.00</td>\n",
       "      <td>103.95</td>\n",
       "      <td>5.63</td>\n",
       "      <td>3.26</td>\n",
       "      <td>110.96</td>\n",
       "    </tr>\n",
       "  </tbody>\n",
       "</table>\n",
       "<p>170 rows × 7 columns</p>\n",
       "</div>"
      ],
      "text/plain": [
       "     is_genuine  diagonal  height_left  height_right  margin_low  margin_up  \\\n",
       "0          True    171.81       104.86        104.95        4.52       2.89   \n",
       "1          True    171.67       103.74        103.70        4.01       2.87   \n",
       "2          True    171.83       103.76        103.76        4.40       2.88   \n",
       "3          True    171.80       103.78        103.65        3.73       3.12   \n",
       "4          True    172.05       103.70        103.75        5.04       2.27   \n",
       "..          ...       ...          ...           ...         ...        ...   \n",
       "165       False    172.11       104.23        104.45        5.24       3.58   \n",
       "166       False    173.01       104.59        104.31        5.04       3.05   \n",
       "167       False    172.47       104.27        104.10        4.88       3.33   \n",
       "168       False    171.82       103.97        103.88        4.73       3.55   \n",
       "169       False    171.96       104.00        103.95        5.63       3.26   \n",
       "\n",
       "     length  \n",
       "0    112.83  \n",
       "1    113.29  \n",
       "2    113.84  \n",
       "3    113.63  \n",
       "4    113.55  \n",
       "..      ...  \n",
       "165  111.78  \n",
       "166  110.91  \n",
       "167  110.68  \n",
       "168  111.87  \n",
       "169  110.96  \n",
       "\n",
       "[170 rows x 7 columns]"
      ]
     },
     "execution_count": 41,
     "metadata": {},
     "output_type": "execute_result"
    }
   ],
   "source": [
    "df = pd.read_csv('datas/notes.csv' , header=0, sep=\",\", decimal=\".\")\n",
    "df"
   ]
  },
  {
   "cell_type": "markdown",
   "id": "a0858061",
   "metadata": {},
   "source": [
    "# Mission 3\n",
    "Modélisez les données à l'aide d'une régression logistique. Grâce à celle-ci, vous créerez un programme capable d'effectuer une prédiction sur un billet, c'est-à-dire de déterminer s'il s'agit d'un vrai ou d'un faux billet. Pour chaque billet, votre algorithme de classification devra donner la probabilité que le billet soit vrai. Si cette probabilité est supérieure ou égale à 0.5, le billet sera considéré comme vrai. Dans le cas contraire, il sera considéré comme faux.\n",
    "\n"
   ]
  },
  {
   "cell_type": "markdown",
   "id": "6fb18df6",
   "metadata": {},
   "source": [
    "# La régression logistique\n",
    "La régression logistique est un modèle statistique permettant d’étudier les relations entre un ensemble de variables qualitatives Xi et une variable qualitative Y. Il s’agit d’un modèle linéaire généralisé utilisant une fonction logistique comme fonction de lien.\n",
    "\n",
    "Un modèle de régression logistique permet aussi de prédire la probabilité qu’un événement arrive (valeur de 1) ou non (valeur de 0) à partir de l’optimisation des coefficients de régression. Ce résultat varie toujours entre 0 et 1. Lorsque la valeur prédite est supérieure à un seuil, l’événement est susceptible de se produire, alors que lorsque cette valeur est inférieure au même seuil, il ne l’est pas."
   ]
  },
  {
   "cell_type": "markdown",
   "id": "cb4caf65",
   "metadata": {},
   "source": [
    "## Vérification de la colinéarité des variables\n",
    "Il est primordial de découvrir et quantifier à quel point deux variables sont liées. Ces relations peuvent être complexes et ne sont pas forcément visibles. Or certaines de ces dépendances affaiblissent les performances d’algorithme\n",
    "\n",
    "Le facteur d'inflation de la variance (VIF) est une mesure de la quantité de multicolinéarité dans un ensemble de variables de Régression Logistique. Un VIF élevé indique que la variable indépendante associée est fortement colinéaire avec les autres variables du modèle. Nous pouvons avoir une idée des éventuels problèmes de colinéarité."
   ]
  },
  {
   "cell_type": "code",
   "execution_count": 42,
   "id": "63482535",
   "metadata": {},
   "outputs": [],
   "source": [
    "from statsmodels.stats.outliers_influence import variance_inflation_factor\n",
    "import statsmodels.formula.api as smf\n",
    "from sklearn.model_selection import train_test_split, RandomizedSearchCV, cross_validate\n",
    "from sklearn.linear_model import LogisticRegression\n",
    "\n",
    "from sklearn import metrics\n",
    "from sklearn.metrics import confusion_matrix\n",
    "from sklearn.metrics import roc_curve, auc"
   ]
  },
  {
   "cell_type": "code",
   "execution_count": 43,
   "id": "6371ddf8",
   "metadata": {},
   "outputs": [
    {
     "data": {
      "text/plain": [
       "[2.249831212995896,\n",
       " 2.5637087947433383,\n",
       " 2.172802257913994,\n",
       " 1.625230529655228,\n",
       " 2.463836435483428]"
      ]
     },
     "execution_count": 43,
     "metadata": {},
     "output_type": "execute_result"
    }
   ],
   "source": [
    "reg_multi = smf.ols('diagonal  ~ height_left + height_right + margin_low + margin_up + length', data=df).fit()\n",
    "variables = reg_multi.model.exog\n",
    "[variance_inflation_factor(variables, i) for i in np.arange(1,variables.shape[1])]\n"
   ]
  },
  {
   "cell_type": "markdown",
   "id": "e4e70546",
   "metadata": {},
   "source": [
    "VIF < 10 il n'y aura pas d'influence liée à la colinéarité des variables. Si des variables colinéaires sont de facto fortement corrélées entre elles, deux variables corrélées ne sont pas forcément colinéaires. La régression logistique peut-être modélisée sur nos six variables explicatives, il ne semble pas avoir de frein possible, ni colinéarité, il n'y a non plus pas de valeur atypique influente."
   ]
  },
  {
   "cell_type": "markdown",
   "id": "d751917c",
   "metadata": {},
   "source": [
    "## Modélisation des données à l'aide d'une Régression Logistique"
   ]
  },
  {
   "cell_type": "code",
   "execution_count": 44,
   "id": "74b7156e",
   "metadata": {},
   "outputs": [],
   "source": [
    "df['is_genuine'] = df['is_genuine'].apply(lambda x: 1 if x == True else 0)\n",
    "df[\"is_genuine\"] = df[\"is_genuine\"].astype('category')\n",
    "#set X and y\n",
    "X = df.iloc[:, 1:7].values \n",
    "Y = df.iloc[:, 0].values\n",
    "\n",
    "\n",
    "#split into train & test dataset\n",
    "X_train, X_test, Y_train, Y_test = train_test_split(X, Y, test_size=0.20)\n"
   ]
  },
  {
   "cell_type": "markdown",
   "id": "922215fe",
   "metadata": {},
   "source": [
    "Ici, l'ensemble de données est divisé en deux parties dans un rapport de 20/80. Cela signifie que 80% des données seront utilisées pour la formation des modèles et 20% pour les tests des modèles. Les données étant assez limitées, le choix des 20% pour les données de test est choisi.\n",
    "\n"
   ]
  },
  {
   "cell_type": "code",
   "execution_count": 45,
   "id": "1a07288d",
   "metadata": {},
   "outputs": [
    {
     "data": {
      "text/plain": [
       "LogisticRegression()"
      ]
     },
     "execution_count": 45,
     "metadata": {},
     "output_type": "execute_result"
    }
   ],
   "source": [
    "#Instanciation d'un modèle nommé lr\n",
    "lr = LogisticRegression()\n",
    "lr.fit(X_train, Y_train)\n"
   ]
  },
  {
   "cell_type": "markdown",
   "id": "5fb53f56",
   "metadata": {},
   "source": [
    "### Model Fit"
   ]
  },
  {
   "cell_type": "code",
   "execution_count": 46,
   "id": "a1fb2ae5",
   "metadata": {},
   "outputs": [
    {
     "name": "stdout",
     "output_type": "stream",
     "text": [
      "[[53  1]\n",
      " [ 1 81]]\n"
     ]
    },
    {
     "data": {
      "image/png": "[encoded data removed]",
      "text/plain": [
       "<Figure size 432x288 with 2 Axes>"
      ]
     },
     "metadata": {
      "needs_background": "light"
     },
     "output_type": "display_data"
    },
    {
     "name": "stdout",
     "output_type": "stream",
     "text": [
      "              precision    recall  f1-score   support\n",
      "\n",
      "           0       0.98      0.98      0.98        54\n",
      "           1       0.99      0.99      0.99        82\n",
      "\n",
      "    accuracy                           0.99       136\n",
      "   macro avg       0.98      0.98      0.98       136\n",
      "weighted avg       0.99      0.99      0.99       136\n",
      "\n"
     ]
    }
   ],
   "source": [
    "Y_pred_train= lr.predict(X_train)\n",
    "\n",
    "confusion_matrix1 = confusion_matrix(Y_train, Y_pred_train)\n",
    "print(confusion_matrix1) \n",
    "\n",
    "\n",
    "#Représentation graphique de la Matrice de confusion\n",
    "sns.heatmap(pd.DataFrame(confusion_matrix1), annot=True, cmap=\"YlGnBu\" ,fmt='g')\n",
    "plt.title('Confusion matrix')\n",
    "plt.ylabel('Actual label')\n",
    "plt.xlabel('Predicted label')\n",
    "plt.savefig(\"graphiques/12 confusion_matrix.png\")\n",
    "plt.show()\n",
    "\n",
    "print(metrics.classification_report(Y_train, Y_pred_train))\n",
    "\n"
   ]
  },
  {
   "cell_type": "markdown",
   "id": "328e2c00",
   "metadata": {},
   "source": [
    "## Évaluation du modèle à l'aide de la matrice de confusion."
   ]
  },
  {
   "cell_type": "markdown",
   "id": "a7a1c69c",
   "metadata": {},
   "source": [
    "### Model Predict"
   ]
  },
  {
   "cell_type": "code",
   "execution_count": 47,
   "id": "1ff9ebbf",
   "metadata": {},
   "outputs": [
    {
     "name": "stdout",
     "output_type": "stream",
     "text": [
      "[[15  1]\n",
      " [ 0 18]]\n"
     ]
    }
   ],
   "source": [
    "Y_pred = lr.predict(X_test)\n",
    "# predict() nous permet de prédire les étiquettes des valeurs de données sur la base du modèle entraîné.\n",
    "confusion_matrix = confusion_matrix(Y_test, Y_pred)\n",
    "print(confusion_matrix) \n"
   ]
  },
  {
   "cell_type": "code",
   "execution_count": 49,
   "id": "c92835a4",
   "metadata": {},
   "outputs": [
    {
     "data": {
      "image/png": "[encoded data removed]",
      "text/plain": [
       "<Figure size 432x288 with 2 Axes>"
      ]
     },
     "metadata": {
      "needs_background": "light"
     },
     "output_type": "display_data"
    },
    {
     "name": "stdout",
     "output_type": "stream",
     "text": [
      "Classification_report\n",
      "------------------------\n",
      "              precision    recall  f1-score   support\n",
      "\n",
      "           0       1.00      0.94      0.97        16\n",
      "           1       0.95      1.00      0.97        18\n",
      "\n",
      "    accuracy                           0.97        34\n",
      "   macro avg       0.97      0.97      0.97        34\n",
      "weighted avg       0.97      0.97      0.97        34\n",
      "\n"
     ]
    }
   ],
   "source": [
    "#Représentation graphique de la Matrice de confusion\n",
    "sns.heatmap(pd.DataFrame(confusion_matrix), annot=True, cmap=\"YlGnBu\" ,fmt='g')\n",
    "plt.title('Confusion matrix')\n",
    "plt.ylabel('Actual label')\n",
    "plt.xlabel('Predicted label')\n",
    "plt.savefig(\"graphiques/13 confusion_matrix.png\")\n",
    "plt.show()\n",
    "\n",
    "#Créez un rapport texte montrant les principales métriques de classification.\n",
    "print (\"Classification_report\")\n",
    "print ('------------------------')\n",
    "print(metrics.classification_report(Y_test, Y_pred))\n"
   ]
  },
  {
   "cell_type": "code",
   "execution_count": 10,
   "id": "fdc65532",
   "metadata": {},
   "outputs": [
    {
     "name": "stdout",
     "output_type": "stream",
     "text": [
      "accuracy 0.9705882352941176\n"
     ]
    }
   ],
   "source": [
    "print (\"accuracy\", metrics.accuracy_score(Y_test, Y_pred))\n",
    "#Score de classification de précision. التنبؤات الصحيحة من كل التنبؤات#\n"
   ]
  },
  {
   "cell_type": "markdown",
   "id": "a8ce6858",
   "metadata": {},
   "source": [
    "LogisticRegression veut savoir à 97 % si les pièces sont vraies ou fausses\n"
   ]
  },
  {
   "cell_type": "code",
   "execution_count": 11,
   "id": "78e41031",
   "metadata": {},
   "outputs": [
    {
     "name": "stdout",
     "output_type": "stream",
     "text": [
      "precision score 0.9705882352941176\n"
     ]
    }
   ],
   "source": [
    "print (\"precision score\",metrics.precision_score(Y_test, Y_pred, average='macro')) \n",
    "#La précision est le rapport tp / (tp + fp) où tp est le nombre de vrais positifs et fp le nombre de faux positifs.\n"
   ]
  },
  {
   "cell_type": "markdown",
   "id": "b21e8fcc",
   "metadata": {},
   "source": [
    "\n",
    "Précision :, c'est-à-dire à quel point votre modèle est précis. En d'autres termes, vous pouvez dire, lorsqu'un modèle fait une prédiction, à quelle fréquence elle est correcte."
   ]
  },
  {
   "cell_type": "markdown",
   "id": "df044f70",
   "metadata": {},
   "source": [
    "# L'évaluation du modèle peut aussi se faire par la courbe ROC et sa métrique AUC."
   ]
  },
  {
   "cell_type": "code",
   "execution_count": 12,
   "id": "3c911852",
   "metadata": {},
   "outputs": [],
   "source": [
    "#Récupération de la prédiction de la valeur positive\n",
    "y_prob = lr.predict_proba(X_test)[:,1] \n",
    "false_positive_rate, true_positive_rate, thresholds = roc_curve(Y_test, y_prob)"
   ]
  },
  {
   "cell_type": "code",
   "execution_count": 13,
   "id": "4236cc74",
   "metadata": {},
   "outputs": [
    {
     "data": {
      "text/plain": [
       "1.0"
      ]
     },
     "execution_count": 13,
     "metadata": {},
     "output_type": "execute_result"
    }
   ],
   "source": [
    "#Mesure AUC (Area Under the Curve): Aire sous la courbe\n",
    "#from sklearn import metrics\n",
    "metrics.auc(false_positive_rate, true_positive_rate)  \n"
   ]
  },
  {
   "cell_type": "code",
   "execution_count": 14,
   "id": "d586eab6",
   "metadata": {},
   "outputs": [
    {
     "data": {
      "image/png": "[encoded data removed]",
      "text/plain": [
       "<Figure size 432x288 with 1 Axes>"
      ]
     },
     "metadata": {
      "needs_background": "light"
     },
     "output_type": "display_data"
    }
   ],
   "source": [
    "#Courbe ROC\n",
    "plt.plot(false_positive_rate, true_positive_rate)\n",
    "plt.plot([0, 1], [0, 1], linestyle='--')\n",
    "\n",
    "plt.xlabel('Taux de faux positifs')\n",
    "plt.ylabel('Taux de vrais positifs ')\n",
    "plt.title('Courbe ROC')\n",
    "\n",
    "plt.savefig(\"graphiques/14.Courbe ROC.jpg\")\n",
    "\n",
    "\n",
    "plt.show()"
   ]
  },
  {
   "cell_type": "code",
   "execution_count": 15,
   "id": "8be4215b",
   "metadata": {},
   "outputs": [
    {
     "name": "stdout",
     "output_type": "stream",
     "text": [
      "AUC&ROC 0.9722222222222222\n"
     ]
    }
   ],
   "source": [
    "print (\"AUC&ROC\",metrics.roc_auc_score(Y_test, Y_pred))\n"
   ]
  },
  {
   "cell_type": "markdown",
   "id": "f36b932a",
   "metadata": {},
   "source": [
    "#### Rappel :\n",
    "\n",
    "dans le pire des cas, AUC = 0.5\\\n",
    "dans le meilleur des cas, AUC = 1\\\n",
    "Ici, nous avons un excellent modèle"
   ]
  },
  {
   "cell_type": "markdown",
   "id": "3912be65",
   "metadata": {},
   "source": [
    "L’idée de **la courbe ROC** est de faire varier le «seuil» de 1 à 0 et, pour chaque cas, calculer le taux de vrai positif et de faux positif que l’on reporte dans un graphique: en abscisse le TFP, en ordonnée le TVP.\n",
    "\n",
    "Facile à interpréter, ne nécessite pas de mise à l'échelle, ni de calcul complexe. La régression logistique fournit un score de probabilité pour les observations. Dans ce cas précis, nous sommes très proche du classifieur optimal."
   ]
  },
  {
   "cell_type": "code",
   "execution_count": 16,
   "id": "e27cbe09",
   "metadata": {},
   "outputs": [
    {
     "data": {
      "text/plain": [
       "0.8382174761998221"
      ]
     },
     "execution_count": 16,
     "metadata": {},
     "output_type": "execute_result"
    }
   ],
   "source": [
    "metrics.homogeneity_score(Y_test, Y_pred)\n",
    "#Métrique d'homogénéité d'un étiquetage de cluster compte tenu d'une vérité terrain\n"
   ]
  },
  {
   "cell_type": "code",
   "execution_count": 17,
   "id": "35f3c15f",
   "metadata": {},
   "outputs": [
    {
     "data": {
      "text/plain": [
       "0.836124066920416"
      ]
     },
     "execution_count": 17,
     "metadata": {},
     "output_type": "execute_result"
    }
   ],
   "source": [
    "#Métrique d'exhaustivité d'un étiquetage de cluster compte tenu d'une vérité terrain.\n",
    "metrics.completeness_score(Y_test, Y_pred)\n"
   ]
  },
  {
   "cell_type": "markdown",
   "id": "eb3c177a",
   "metadata": {},
   "source": [
    "L’idée de la courbe ROC est de faire varier le «seuil» de 1 à 0 et, pour chaque cas, calculer le taux de vrai positif et de faux positif que l’on reporte dans un graphique: en abscisse le TFP, en ordonnée le TVP.\n",
    "\n",
    "Facile à interpréter, ne nécessite pas de mise à l'échelle, ni de calcul complexe. La régression logistique fournit un score de probabilité pour les observations. Dans ce cas précis, nous sommes en du classifieur optimal."
   ]
  },
  {
   "cell_type": "markdown",
   "id": "326d5dd1",
   "metadata": {},
   "source": [
    "### Application sur le fichier test_exemple.csv"
   ]
  },
  {
   "cell_type": "code",
   "execution_count": 18,
   "id": "d15ecfec",
   "metadata": {},
   "outputs": [
    {
     "data": {
      "text/html": [
       "<div>\n",
       "<style scoped>\n",
       "    .dataframe tbody tr th:only-of-type {\n",
       "        vertical-align: middle;\n",
       "    }\n",
       "\n",
       "    .dataframe tbody tr th {\n",
       "        vertical-align: top;\n",
       "    }\n",
       "\n",
       "    .dataframe thead th {\n",
       "        text-align: right;\n",
       "    }\n",
       "</style>\n",
       "<table border=\"1\" class=\"dataframe\">\n",
       "  <thead>\n",
       "    <tr style=\"text-align: right;\">\n",
       "      <th></th>\n",
       "      <th>diagonal</th>\n",
       "      <th>height_left</th>\n",
       "      <th>height_right</th>\n",
       "      <th>margin_low</th>\n",
       "      <th>margin_up</th>\n",
       "      <th>length</th>\n",
       "      <th>id</th>\n",
       "    </tr>\n",
       "  </thead>\n",
       "  <tbody>\n",
       "    <tr>\n",
       "      <th>0</th>\n",
       "      <td>171.76</td>\n",
       "      <td>104.01</td>\n",
       "      <td>103.54</td>\n",
       "      <td>5.21</td>\n",
       "      <td>3.30</td>\n",
       "      <td>111.42</td>\n",
       "      <td>A_1</td>\n",
       "    </tr>\n",
       "    <tr>\n",
       "      <th>1</th>\n",
       "      <td>171.87</td>\n",
       "      <td>104.17</td>\n",
       "      <td>104.13</td>\n",
       "      <td>6.00</td>\n",
       "      <td>3.31</td>\n",
       "      <td>112.09</td>\n",
       "      <td>A_2</td>\n",
       "    </tr>\n",
       "    <tr>\n",
       "      <th>2</th>\n",
       "      <td>172.00</td>\n",
       "      <td>104.58</td>\n",
       "      <td>104.29</td>\n",
       "      <td>4.99</td>\n",
       "      <td>3.39</td>\n",
       "      <td>111.57</td>\n",
       "      <td>A_3</td>\n",
       "    </tr>\n",
       "    <tr>\n",
       "      <th>3</th>\n",
       "      <td>172.49</td>\n",
       "      <td>104.55</td>\n",
       "      <td>104.34</td>\n",
       "      <td>4.44</td>\n",
       "      <td>3.03</td>\n",
       "      <td>113.20</td>\n",
       "      <td>A_4</td>\n",
       "    </tr>\n",
       "    <tr>\n",
       "      <th>4</th>\n",
       "      <td>171.65</td>\n",
       "      <td>103.63</td>\n",
       "      <td>103.56</td>\n",
       "      <td>3.77</td>\n",
       "      <td>3.16</td>\n",
       "      <td>113.33</td>\n",
       "      <td>A_5</td>\n",
       "    </tr>\n",
       "  </tbody>\n",
       "</table>\n",
       "</div>"
      ],
      "text/plain": [
       "   diagonal  height_left  height_right  margin_low  margin_up  length   id\n",
       "0    171.76       104.01        103.54        5.21       3.30  111.42  A_1\n",
       "1    171.87       104.17        104.13        6.00       3.31  112.09  A_2\n",
       "2    172.00       104.58        104.29        4.99       3.39  111.57  A_3\n",
       "3    172.49       104.55        104.34        4.44       3.03  113.20  A_4\n",
       "4    171.65       103.63        103.56        3.77       3.16  113.33  A_5"
      ]
     },
     "execution_count": 18,
     "metadata": {},
     "output_type": "execute_result"
    }
   ],
   "source": [
    "#Prédiction faite à partir du fichier \"test_example.csv\"\n",
    "df_example = pd.read_csv('datas/test_example.csv')\n",
    "df_example"
   ]
  },
  {
   "cell_type": "code",
   "execution_count": 19,
   "id": "3f71fbcd",
   "metadata": {},
   "outputs": [
    {
     "data": {
      "text/html": [
       "<div>\n",
       "<style scoped>\n",
       "    .dataframe tbody tr th:only-of-type {\n",
       "        vertical-align: middle;\n",
       "    }\n",
       "\n",
       "    .dataframe tbody tr th {\n",
       "        vertical-align: top;\n",
       "    }\n",
       "\n",
       "    .dataframe thead th {\n",
       "        text-align: right;\n",
       "    }\n",
       "</style>\n",
       "<table border=\"1\" class=\"dataframe\">\n",
       "  <thead>\n",
       "    <tr style=\"text-align: right;\">\n",
       "      <th></th>\n",
       "      <th>diagonal</th>\n",
       "      <th>height_left</th>\n",
       "      <th>height_right</th>\n",
       "      <th>margin_low</th>\n",
       "      <th>margin_up</th>\n",
       "      <th>length</th>\n",
       "      <th>id</th>\n",
       "      <th>value</th>\n",
       "    </tr>\n",
       "  </thead>\n",
       "  <tbody>\n",
       "    <tr>\n",
       "      <th>0</th>\n",
       "      <td>171.76</td>\n",
       "      <td>104.01</td>\n",
       "      <td>103.54</td>\n",
       "      <td>5.21</td>\n",
       "      <td>3.30</td>\n",
       "      <td>111.42</td>\n",
       "      <td>A_1</td>\n",
       "      <td>0.055</td>\n",
       "    </tr>\n",
       "    <tr>\n",
       "      <th>1</th>\n",
       "      <td>171.87</td>\n",
       "      <td>104.17</td>\n",
       "      <td>104.13</td>\n",
       "      <td>6.00</td>\n",
       "      <td>3.31</td>\n",
       "      <td>112.09</td>\n",
       "      <td>A_2</td>\n",
       "      <td>0.014</td>\n",
       "    </tr>\n",
       "    <tr>\n",
       "      <th>2</th>\n",
       "      <td>172.00</td>\n",
       "      <td>104.58</td>\n",
       "      <td>104.29</td>\n",
       "      <td>4.99</td>\n",
       "      <td>3.39</td>\n",
       "      <td>111.57</td>\n",
       "      <td>A_3</td>\n",
       "      <td>0.040</td>\n",
       "    </tr>\n",
       "    <tr>\n",
       "      <th>3</th>\n",
       "      <td>172.49</td>\n",
       "      <td>104.55</td>\n",
       "      <td>104.34</td>\n",
       "      <td>4.44</td>\n",
       "      <td>3.03</td>\n",
       "      <td>113.20</td>\n",
       "      <td>A_4</td>\n",
       "      <td>0.882</td>\n",
       "    </tr>\n",
       "    <tr>\n",
       "      <th>4</th>\n",
       "      <td>171.65</td>\n",
       "      <td>103.63</td>\n",
       "      <td>103.56</td>\n",
       "      <td>3.77</td>\n",
       "      <td>3.16</td>\n",
       "      <td>113.33</td>\n",
       "      <td>A_5</td>\n",
       "      <td>0.996</td>\n",
       "    </tr>\n",
       "  </tbody>\n",
       "</table>\n",
       "</div>"
      ],
      "text/plain": [
       "   diagonal  height_left  height_right  margin_low  margin_up  length   id  \\\n",
       "0    171.76       104.01        103.54        5.21       3.30  111.42  A_1   \n",
       "1    171.87       104.17        104.13        6.00       3.31  112.09  A_2   \n",
       "2    172.00       104.58        104.29        4.99       3.39  111.57  A_3   \n",
       "3    172.49       104.55        104.34        4.44       3.03  113.20  A_4   \n",
       "4    171.65       103.63        103.56        3.77       3.16  113.33  A_5   \n",
       "\n",
       "   value  \n",
       "0  0.055  \n",
       "1  0.014  \n",
       "2  0.040  \n",
       "3  0.882  \n",
       "4  0.996  "
      ]
     },
     "execution_count": 19,
     "metadata": {},
     "output_type": "execute_result"
    }
   ],
   "source": [
    "#Préparation des données\n",
    "X = df_example.copy()\n",
    "X = X.iloc[:, :-1]\n",
    "#Utilisation du modèle de prédiction 'lr'\n",
    "probability = lr.predict_proba(X.values)[:, 1]\n",
    "#Probabilités des billets établies \n",
    "proba = pd.Series(probability.round(3), name='value')\n",
    "#Intégration des probabilités dans le jeu de données\n",
    "df_example_final = pd.concat([df_example, proba], axis=1)\n",
    "df_example_final"
   ]
  },
  {
   "cell_type": "markdown",
   "id": "7e07a0fd",
   "metadata": {},
   "source": [
    "L'algorithme de classification donnera la probabilité que le billet soit vrai. Si cette probabilité est supérieure ou égale à 0.5, le billet sera considéré comme vrai. Dans le cas contraire, il sera considéré comme faux."
   ]
  },
  {
   "cell_type": "code",
   "execution_count": 20,
   "id": "91ffbc6b",
   "metadata": {},
   "outputs": [
    {
     "data": {
      "text/html": [
       "<div>\n",
       "<style scoped>\n",
       "    .dataframe tbody tr th:only-of-type {\n",
       "        vertical-align: middle;\n",
       "    }\n",
       "\n",
       "    .dataframe tbody tr th {\n",
       "        vertical-align: top;\n",
       "    }\n",
       "\n",
       "    .dataframe thead th {\n",
       "        text-align: right;\n",
       "    }\n",
       "</style>\n",
       "<table border=\"1\" class=\"dataframe\">\n",
       "  <thead>\n",
       "    <tr style=\"text-align: right;\">\n",
       "      <th></th>\n",
       "      <th>diagonal</th>\n",
       "      <th>height_left</th>\n",
       "      <th>height_right</th>\n",
       "      <th>margin_low</th>\n",
       "      <th>margin_up</th>\n",
       "      <th>length</th>\n",
       "      <th>id</th>\n",
       "      <th>value</th>\n",
       "      <th>resultat</th>\n",
       "    </tr>\n",
       "  </thead>\n",
       "  <tbody>\n",
       "    <tr>\n",
       "      <th>0</th>\n",
       "      <td>171.76</td>\n",
       "      <td>104.01</td>\n",
       "      <td>103.54</td>\n",
       "      <td>5.21</td>\n",
       "      <td>3.30</td>\n",
       "      <td>111.42</td>\n",
       "      <td>A_1</td>\n",
       "      <td>0.055</td>\n",
       "      <td>Faux Billet</td>\n",
       "    </tr>\n",
       "    <tr>\n",
       "      <th>1</th>\n",
       "      <td>171.87</td>\n",
       "      <td>104.17</td>\n",
       "      <td>104.13</td>\n",
       "      <td>6.00</td>\n",
       "      <td>3.31</td>\n",
       "      <td>112.09</td>\n",
       "      <td>A_2</td>\n",
       "      <td>0.014</td>\n",
       "      <td>Faux Billet</td>\n",
       "    </tr>\n",
       "    <tr>\n",
       "      <th>2</th>\n",
       "      <td>172.00</td>\n",
       "      <td>104.58</td>\n",
       "      <td>104.29</td>\n",
       "      <td>4.99</td>\n",
       "      <td>3.39</td>\n",
       "      <td>111.57</td>\n",
       "      <td>A_3</td>\n",
       "      <td>0.040</td>\n",
       "      <td>Faux Billet</td>\n",
       "    </tr>\n",
       "    <tr>\n",
       "      <th>3</th>\n",
       "      <td>172.49</td>\n",
       "      <td>104.55</td>\n",
       "      <td>104.34</td>\n",
       "      <td>4.44</td>\n",
       "      <td>3.03</td>\n",
       "      <td>113.20</td>\n",
       "      <td>A_4</td>\n",
       "      <td>0.882</td>\n",
       "      <td>Vrai Billet</td>\n",
       "    </tr>\n",
       "    <tr>\n",
       "      <th>4</th>\n",
       "      <td>171.65</td>\n",
       "      <td>103.63</td>\n",
       "      <td>103.56</td>\n",
       "      <td>3.77</td>\n",
       "      <td>3.16</td>\n",
       "      <td>113.33</td>\n",
       "      <td>A_5</td>\n",
       "      <td>0.996</td>\n",
       "      <td>Vrai Billet</td>\n",
       "    </tr>\n",
       "  </tbody>\n",
       "</table>\n",
       "</div>"
      ],
      "text/plain": [
       "   diagonal  height_left  height_right  margin_low  margin_up  length   id  \\\n",
       "0    171.76       104.01        103.54        5.21       3.30  111.42  A_1   \n",
       "1    171.87       104.17        104.13        6.00       3.31  112.09  A_2   \n",
       "2    172.00       104.58        104.29        4.99       3.39  111.57  A_3   \n",
       "3    172.49       104.55        104.34        4.44       3.03  113.20  A_4   \n",
       "4    171.65       103.63        103.56        3.77       3.16  113.33  A_5   \n",
       "\n",
       "   value     resultat  \n",
       "0  0.055  Faux Billet  \n",
       "1  0.014  Faux Billet  \n",
       "2  0.040  Faux Billet  \n",
       "3  0.882  Vrai Billet  \n",
       "4  0.996  Vrai Billet  "
      ]
     },
     "execution_count": 20,
     "metadata": {},
     "output_type": "execute_result"
    }
   ],
   "source": [
    "#Résultats de la classification prédictive :\n",
    "resultat = []\n",
    "for i in df_example_final['value'] >= .5:\n",
    "    if i is True :\n",
    "        resultat.append('Vrai Billet')\n",
    "    else :\n",
    "        resultat.append('Faux Billet')\n",
    "\n",
    "df_example_final['resultat'] = resultat\n",
    "df_example_final"
   ]
  },
  {
   "cell_type": "code",
   "execution_count": null,
   "id": "5d8692a0",
   "metadata": {},
   "outputs": [],
   "source": []
  },
  {
   "cell_type": "code",
   "execution_count": null,
   "id": "36e8e4fa",
   "metadata": {},
   "outputs": [],
   "source": []
  },
  {
   "cell_type": "code",
   "execution_count": null,
   "id": "f3e3d2fd",
   "metadata": {},
   "outputs": [],
   "source": []
  }
 ],
 "metadata": {
  "kernelspec": {
   "display_name": "Python 3 (ipykernel)",
   "language": "python",
   "name": "python3"
  },
  "language_info": {
   "codemirror_mode": {
    "name": "ipython",
    "version": 3
   },
   "file_extension": ".py",
   "mimetype": "text/x-python",
   "name": "python",
   "nbconvert_exporter": "python",
   "pygments_lexer": "ipython3",
   "version": "3.9.7"
  }
 },
 "nbformat": 4,
 "nbformat_minor": 5
}
